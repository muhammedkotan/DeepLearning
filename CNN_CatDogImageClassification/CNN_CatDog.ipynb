{
  "nbformat": 4,
  "nbformat_minor": 0,
  "metadata": {
    "colab": {
      "name": "CNN_CatDog.ipynb",
      "provenance": [],
      "collapsed_sections": []
    },
    "kernelspec": {
      "name": "python3",
      "display_name": "Python 3"
    },
    "accelerator": "GPU"
  },
  "cells": [
    {
      "cell_type": "markdown",
      "metadata": {
        "id": "E96s7htVZU2l"
      },
      "source": [
        "#**Image Classification of CAT & DOG Using Convolutional Neural Network**"
      ]
    },
    {
      "cell_type": "code",
      "metadata": {
        "colab": {
          "base_uri": "https://localhost:8080/"
        },
        "id": "Q2mX8ZFXHSOg",
        "outputId": "edbe73d4-933f-497b-abb9-abdb97f9ec1c"
      },
      "source": [
        "# Accelerator Selected as GPU\n",
        "!pip install tensorflow.gpu"
      ],
      "execution_count": null,
      "outputs": [
        {
          "output_type": "stream",
          "text": [
            "Collecting tensorflow.gpu\n",
            "\u001b[?25l  Downloading https://files.pythonhosted.org/packages/1d/a2/5ccf0a418eb22e0a2ae9edc1e7f5456d0a4b8b49524572897564b4030a9b/tensorflow_gpu-2.5.0-cp37-cp37m-manylinux2010_x86_64.whl (454.3MB)\n",
            "\u001b[K     |████████████████████████████████| 454.3MB 38kB/s \n",
            "\u001b[?25hRequirement already satisfied: protobuf>=3.9.2 in /usr/local/lib/python3.7/dist-packages (from tensorflow.gpu) (3.12.4)\n",
            "Requirement already satisfied: six~=1.15.0 in /usr/local/lib/python3.7/dist-packages (from tensorflow.gpu) (1.15.0)\n",
            "Requirement already satisfied: grpcio~=1.34.0 in /usr/local/lib/python3.7/dist-packages (from tensorflow.gpu) (1.34.1)\n",
            "Requirement already satisfied: wheel~=0.35 in /usr/local/lib/python3.7/dist-packages (from tensorflow.gpu) (0.36.2)\n",
            "Requirement already satisfied: keras-preprocessing~=1.1.2 in /usr/local/lib/python3.7/dist-packages (from tensorflow.gpu) (1.1.2)\n",
            "Requirement already satisfied: wrapt~=1.12.1 in /usr/local/lib/python3.7/dist-packages (from tensorflow.gpu) (1.12.1)\n",
            "Requirement already satisfied: gast==0.4.0 in /usr/local/lib/python3.7/dist-packages (from tensorflow.gpu) (0.4.0)\n",
            "Requirement already satisfied: numpy~=1.19.2 in /usr/local/lib/python3.7/dist-packages (from tensorflow.gpu) (1.19.5)\n",
            "Requirement already satisfied: flatbuffers~=1.12.0 in /usr/local/lib/python3.7/dist-packages (from tensorflow.gpu) (1.12)\n",
            "Requirement already satisfied: google-pasta~=0.2 in /usr/local/lib/python3.7/dist-packages (from tensorflow.gpu) (0.2.0)\n",
            "Requirement already satisfied: typing-extensions~=3.7.4 in /usr/local/lib/python3.7/dist-packages (from tensorflow.gpu) (3.7.4.3)\n",
            "Requirement already satisfied: termcolor~=1.1.0 in /usr/local/lib/python3.7/dist-packages (from tensorflow.gpu) (1.1.0)\n",
            "Requirement already satisfied: absl-py~=0.10 in /usr/local/lib/python3.7/dist-packages (from tensorflow.gpu) (0.12.0)\n",
            "Requirement already satisfied: h5py~=3.1.0 in /usr/local/lib/python3.7/dist-packages (from tensorflow.gpu) (3.1.0)\n",
            "Requirement already satisfied: tensorflow-estimator<2.6.0,>=2.5.0rc0 in /usr/local/lib/python3.7/dist-packages (from tensorflow.gpu) (2.5.0)\n",
            "Requirement already satisfied: astunparse~=1.6.3 in /usr/local/lib/python3.7/dist-packages (from tensorflow.gpu) (1.6.3)\n",
            "Requirement already satisfied: tensorboard~=2.5 in /usr/local/lib/python3.7/dist-packages (from tensorflow.gpu) (2.5.0)\n",
            "Requirement already satisfied: opt-einsum~=3.3.0 in /usr/local/lib/python3.7/dist-packages (from tensorflow.gpu) (3.3.0)\n",
            "Requirement already satisfied: keras-nightly~=2.5.0.dev in /usr/local/lib/python3.7/dist-packages (from tensorflow.gpu) (2.5.0.dev2021032900)\n",
            "Requirement already satisfied: setuptools in /usr/local/lib/python3.7/dist-packages (from protobuf>=3.9.2->tensorflow.gpu) (57.0.0)\n",
            "Requirement already satisfied: cached-property; python_version < \"3.8\" in /usr/local/lib/python3.7/dist-packages (from h5py~=3.1.0->tensorflow.gpu) (1.5.2)\n",
            "Requirement already satisfied: google-auth<2,>=1.6.3 in /usr/local/lib/python3.7/dist-packages (from tensorboard~=2.5->tensorflow.gpu) (1.31.0)\n",
            "Requirement already satisfied: markdown>=2.6.8 in /usr/local/lib/python3.7/dist-packages (from tensorboard~=2.5->tensorflow.gpu) (3.3.4)\n",
            "Requirement already satisfied: werkzeug>=0.11.15 in /usr/local/lib/python3.7/dist-packages (from tensorboard~=2.5->tensorflow.gpu) (1.0.1)\n",
            "Requirement already satisfied: tensorboard-data-server<0.7.0,>=0.6.0 in /usr/local/lib/python3.7/dist-packages (from tensorboard~=2.5->tensorflow.gpu) (0.6.1)\n",
            "Requirement already satisfied: tensorboard-plugin-wit>=1.6.0 in /usr/local/lib/python3.7/dist-packages (from tensorboard~=2.5->tensorflow.gpu) (1.8.0)\n",
            "Requirement already satisfied: google-auth-oauthlib<0.5,>=0.4.1 in /usr/local/lib/python3.7/dist-packages (from tensorboard~=2.5->tensorflow.gpu) (0.4.4)\n",
            "Requirement already satisfied: requests<3,>=2.21.0 in /usr/local/lib/python3.7/dist-packages (from tensorboard~=2.5->tensorflow.gpu) (2.23.0)\n",
            "Requirement already satisfied: pyasn1-modules>=0.2.1 in /usr/local/lib/python3.7/dist-packages (from google-auth<2,>=1.6.3->tensorboard~=2.5->tensorflow.gpu) (0.2.8)\n",
            "Requirement already satisfied: cachetools<5.0,>=2.0.0 in /usr/local/lib/python3.7/dist-packages (from google-auth<2,>=1.6.3->tensorboard~=2.5->tensorflow.gpu) (4.2.2)\n",
            "Requirement already satisfied: rsa<5,>=3.1.4; python_version >= \"3.6\" in /usr/local/lib/python3.7/dist-packages (from google-auth<2,>=1.6.3->tensorboard~=2.5->tensorflow.gpu) (4.7.2)\n",
            "Requirement already satisfied: importlib-metadata; python_version < \"3.8\" in /usr/local/lib/python3.7/dist-packages (from markdown>=2.6.8->tensorboard~=2.5->tensorflow.gpu) (4.5.0)\n",
            "Requirement already satisfied: requests-oauthlib>=0.7.0 in /usr/local/lib/python3.7/dist-packages (from google-auth-oauthlib<0.5,>=0.4.1->tensorboard~=2.5->tensorflow.gpu) (1.3.0)\n",
            "Requirement already satisfied: chardet<4,>=3.0.2 in /usr/local/lib/python3.7/dist-packages (from requests<3,>=2.21.0->tensorboard~=2.5->tensorflow.gpu) (3.0.4)\n",
            "Requirement already satisfied: urllib3!=1.25.0,!=1.25.1,<1.26,>=1.21.1 in /usr/local/lib/python3.7/dist-packages (from requests<3,>=2.21.0->tensorboard~=2.5->tensorflow.gpu) (1.24.3)\n",
            "Requirement already satisfied: certifi>=2017.4.17 in /usr/local/lib/python3.7/dist-packages (from requests<3,>=2.21.0->tensorboard~=2.5->tensorflow.gpu) (2021.5.30)\n",
            "Requirement already satisfied: idna<3,>=2.5 in /usr/local/lib/python3.7/dist-packages (from requests<3,>=2.21.0->tensorboard~=2.5->tensorflow.gpu) (2.10)\n",
            "Requirement already satisfied: pyasn1<0.5.0,>=0.4.6 in /usr/local/lib/python3.7/dist-packages (from pyasn1-modules>=0.2.1->google-auth<2,>=1.6.3->tensorboard~=2.5->tensorflow.gpu) (0.4.8)\n",
            "Requirement already satisfied: zipp>=0.5 in /usr/local/lib/python3.7/dist-packages (from importlib-metadata; python_version < \"3.8\"->markdown>=2.6.8->tensorboard~=2.5->tensorflow.gpu) (3.4.1)\n",
            "Requirement already satisfied: oauthlib>=3.0.0 in /usr/local/lib/python3.7/dist-packages (from requests-oauthlib>=0.7.0->google-auth-oauthlib<0.5,>=0.4.1->tensorboard~=2.5->tensorflow.gpu) (3.1.1)\n",
            "Installing collected packages: tensorflow.gpu\n",
            "Successfully installed tensorflow.gpu\n"
          ],
          "name": "stdout"
        }
      ]
    },
    {
      "cell_type": "code",
      "metadata": {
        "colab": {
          "base_uri": "https://localhost:8080/"
        },
        "id": "QgtzX0w1H1uL",
        "outputId": "552bb842-e244-473b-f1b6-be5d235d9c5a"
      },
      "source": [
        "# To See the GPU Specification\n",
        "!nvidia-smi"
      ],
      "execution_count": null,
      "outputs": [
        {
          "output_type": "stream",
          "text": [
            "Sat Jul  3 06:48:35 2021       \n",
            "+-----------------------------------------------------------------------------+\n",
            "| NVIDIA-SMI 465.27       Driver Version: 460.32.03    CUDA Version: 11.2     |\n",
            "|-------------------------------+----------------------+----------------------+\n",
            "| GPU  Name        Persistence-M| Bus-Id        Disp.A | Volatile Uncorr. ECC |\n",
            "| Fan  Temp  Perf  Pwr:Usage/Cap|         Memory-Usage | GPU-Util  Compute M. |\n",
            "|                               |                      |               MIG M. |\n",
            "|===============================+======================+======================|\n",
            "|   0  Tesla T4            Off  | 00000000:00:04.0 Off |                    0 |\n",
            "| N/A   40C    P8     9W /  70W |      0MiB / 15109MiB |      0%      Default |\n",
            "|                               |                      |                  N/A |\n",
            "+-------------------------------+----------------------+----------------------+\n",
            "                                                                               \n",
            "+-----------------------------------------------------------------------------+\n",
            "| Processes:                                                                  |\n",
            "|  GPU   GI   CI        PID   Type   Process name                  GPU Memory |\n",
            "|        ID   ID                                                   Usage      |\n",
            "|=============================================================================|\n",
            "|  No running processes found                                                 |\n",
            "+-----------------------------------------------------------------------------+\n"
          ],
          "name": "stdout"
        }
      ]
    },
    {
      "cell_type": "code",
      "metadata": {
        "colab": {
          "base_uri": "https://localhost:8080/"
        },
        "id": "qsANuxcaZpmB",
        "outputId": "aaba6950-dcb7-430f-f1a4-c7a5dfcfa1ef"
      },
      "source": [
        "# Accessing Google Drive\n",
        "from google.colab import drive\n",
        "drive.mount('/content/drive')"
      ],
      "execution_count": null,
      "outputs": [
        {
          "output_type": "stream",
          "text": [
            "Drive already mounted at /content/drive; to attempt to forcibly remount, call drive.mount(\"/content/drive\", force_remount=True).\n"
          ],
          "name": "stdout"
        }
      ]
    },
    {
      "cell_type": "code",
      "metadata": {
        "id": "jtt4TDuhbsEM"
      },
      "source": [
        "#Step 1: Import the required packages\n",
        "from keras.models import Sequential\n",
        "from keras.layers import Conv2D\n",
        "from keras.layers import MaxPooling2D\n",
        "from keras.layers import Flatten\n",
        "from keras.layers import Dense"
      ],
      "execution_count": null,
      "outputs": []
    },
    {
      "cell_type": "code",
      "metadata": {
        "id": "OQ9x7GazfdEc"
      },
      "source": [
        "# Step 2: Initialising the CNN\n",
        "model = Sequential()"
      ],
      "execution_count": null,
      "outputs": []
    },
    {
      "cell_type": "code",
      "metadata": {
        "id": "vX_uYXnufl9Y"
      },
      "source": [
        "#1st Convolutional Layer\n",
        "\n",
        "# Step 3: Convolution\n",
        "model.add(Conv2D(32, (3, 3), input_shape = (64, 64, 3), activation = 'relu'))\n",
        "# Step 4: Pooling\n",
        "model.add(MaxPooling2D(pool_size = (2, 2)))"
      ],
      "execution_count": null,
      "outputs": []
    },
    {
      "cell_type": "code",
      "metadata": {
        "id": "j_C6QoOEf2df"
      },
      "source": [
        "#2nd Convolutional Layer\n",
        "# Step 5:convolutional & Pooling\n",
        "model.add(Conv2D(16, (3, 3), activation = 'relu'))\n",
        "model.add(MaxPooling2D(pool_size = (2, 2)))"
      ],
      "execution_count": null,
      "outputs": []
    },
    {
      "cell_type": "code",
      "metadata": {
        "id": "YnIWPk6Iruc9"
      },
      "source": [
        "# Step 6: Flattening\n",
        "model.add(Flatten())"
      ],
      "execution_count": null,
      "outputs": []
    },
    {
      "cell_type": "code",
      "metadata": {
        "id": "bL4CNBCNgXIE"
      },
      "source": [
        "# Step 7: Full connection\n",
        "model.add(Dense(units = 128, activation = 'relu'))\n",
        "model.add(Dense(units = 1, activation = 'sigmoid'))"
      ],
      "execution_count": null,
      "outputs": []
    },
    {
      "cell_type": "code",
      "metadata": {
        "id": "ZxaKhw4Dgkeb"
      },
      "source": [
        "# Step 8: Compiling the CNN\n",
        "model.compile(optimizer = 'adam', loss = 'binary_crossentropy', metrics = ['accuracy'])"
      ],
      "execution_count": null,
      "outputs": []
    },
    {
      "cell_type": "code",
      "metadata": {
        "id": "5ONFyONBiuFK"
      },
      "source": [
        "# Step 9: ImageDataGenerator\n",
        "from keras.preprocessing.image import ImageDataGenerator\n",
        "\n",
        "train_datagen = ImageDataGenerator(rescale = 1./255,\n",
        "                                   shear_range = 0.2,\n",
        "                                   zoom_range = 0.2,\n",
        "                                   horizontal_flip = True)\n",
        "test_datagen=ImageDataGenerator(rescale = 1./255)"
      ],
      "execution_count": null,
      "outputs": []
    },
    {
      "cell_type": "code",
      "metadata": {
        "colab": {
          "base_uri": "https://localhost:8080/"
        },
        "id": "3Vmx_MAzjPlW",
        "outputId": "d7db5e27-73d2-4240-868f-a5abd04f2bb6"
      },
      "source": [
        "# Step 10: Load the training Set\n",
        "training_set = train_datagen.flow_from_directory('/content/drive/MyDrive/Data Science/CSVs/dataset/training_set',\n",
        "                                                 target_size = (64, 64),\n",
        "                                                 batch_size = 32,\n",
        "                                                 class_mode = 'binary')\n",
        "#Load the testing Set\n",
        "testing_set = test_datagen.flow_from_directory('/content/drive/MyDrive/Data Science/CSVs/dataset/test_set',\n",
        "                                                 target_size = (64, 64),\n",
        "                                                 batch_size = 32,\n",
        "                                                 class_mode = 'binary')"
      ],
      "execution_count": null,
      "outputs": [
        {
          "output_type": "stream",
          "text": [
            "Found 8000 images belonging to 2 classes.\n",
            "Found 2000 images belonging to 2 classes.\n"
          ],
          "name": "stdout"
        }
      ]
    },
    {
      "cell_type": "code",
      "metadata": {
        "colab": {
          "base_uri": "https://localhost:8080/"
        },
        "id": "0H4YJlfIkhxR",
        "outputId": "8e30b657-359e-40c7-b8af-2adcf8319845"
      },
      "source": [
        "# Step 11: Classifier Training \n",
        "model.fit_generator(training_set,\n",
        "                         steps_per_epoch = 200,\n",
        "                         epochs = 20,\n",
        "                         validation_data=testing_set,\n",
        "                         validation_steps = 50)\n"
      ],
      "execution_count": null,
      "outputs": [
        {
          "output_type": "stream",
          "text": [
            "/usr/local/lib/python3.7/dist-packages/keras/engine/training.py:1915: UserWarning: `Model.fit_generator` is deprecated and will be removed in a future version. Please use `Model.fit`, which supports generators.\n",
            "  warnings.warn('`Model.fit_generator` is deprecated and '\n"
          ],
          "name": "stderr"
        },
        {
          "output_type": "stream",
          "text": [
            "Epoch 1/20\n",
            "200/200 [==============================] - 31s 154ms/step - loss: 0.0666 - accuracy: 0.9766 - val_loss: 0.9527 - val_accuracy: 0.7950\n",
            "Epoch 2/20\n",
            "200/200 [==============================] - 31s 155ms/step - loss: 0.0597 - accuracy: 0.9775 - val_loss: 1.0173 - val_accuracy: 0.8031\n",
            "Epoch 3/20\n",
            "200/200 [==============================] - 31s 156ms/step - loss: 0.0653 - accuracy: 0.9770 - val_loss: 1.1978 - val_accuracy: 0.7719\n",
            "Epoch 4/20\n",
            "200/200 [==============================] - 31s 154ms/step - loss: 0.0614 - accuracy: 0.9780 - val_loss: 0.9675 - val_accuracy: 0.8138\n",
            "Epoch 5/20\n",
            "200/200 [==============================] - 31s 155ms/step - loss: 0.0564 - accuracy: 0.9811 - val_loss: 0.9627 - val_accuracy: 0.8169\n",
            "Epoch 6/20\n",
            "200/200 [==============================] - 31s 157ms/step - loss: 0.0614 - accuracy: 0.9780 - val_loss: 1.0403 - val_accuracy: 0.8094\n",
            "Epoch 7/20\n",
            "200/200 [==============================] - 32s 158ms/step - loss: 0.0700 - accuracy: 0.9737 - val_loss: 0.8850 - val_accuracy: 0.8194\n",
            "Epoch 8/20\n",
            "200/200 [==============================] - 32s 159ms/step - loss: 0.0632 - accuracy: 0.9761 - val_loss: 0.9640 - val_accuracy: 0.8119\n",
            "Epoch 9/20\n",
            "200/200 [==============================] - 31s 155ms/step - loss: 0.0567 - accuracy: 0.9795 - val_loss: 1.0546 - val_accuracy: 0.7956\n",
            "Epoch 10/20\n",
            "200/200 [==============================] - 31s 155ms/step - loss: 0.0569 - accuracy: 0.9802 - val_loss: 1.1488 - val_accuracy: 0.7969\n",
            "Epoch 11/20\n",
            "200/200 [==============================] - 31s 153ms/step - loss: 0.0612 - accuracy: 0.9777 - val_loss: 1.0426 - val_accuracy: 0.7987\n",
            "Epoch 12/20\n",
            "200/200 [==============================] - 31s 154ms/step - loss: 0.0554 - accuracy: 0.9797 - val_loss: 0.9672 - val_accuracy: 0.8031\n",
            "Epoch 13/20\n",
            "200/200 [==============================] - 31s 154ms/step - loss: 0.0564 - accuracy: 0.9769 - val_loss: 1.2510 - val_accuracy: 0.7731\n",
            "Epoch 14/20\n",
            "200/200 [==============================] - 31s 153ms/step - loss: 0.0471 - accuracy: 0.9848 - val_loss: 1.1892 - val_accuracy: 0.7912\n",
            "Epoch 15/20\n",
            "200/200 [==============================] - 31s 153ms/step - loss: 0.0543 - accuracy: 0.9789 - val_loss: 1.1176 - val_accuracy: 0.8031\n",
            "Epoch 16/20\n",
            "200/200 [==============================] - 31s 154ms/step - loss: 0.0477 - accuracy: 0.9816 - val_loss: 1.0838 - val_accuracy: 0.8062\n",
            "Epoch 17/20\n",
            "200/200 [==============================] - 31s 153ms/step - loss: 0.0568 - accuracy: 0.9795 - val_loss: 1.0942 - val_accuracy: 0.7900\n",
            "Epoch 18/20\n",
            "200/200 [==============================] - 31s 154ms/step - loss: 0.0525 - accuracy: 0.9816 - val_loss: 1.1920 - val_accuracy: 0.7944\n",
            "Epoch 19/20\n",
            "200/200 [==============================] - 31s 154ms/step - loss: 0.0452 - accuracy: 0.9836 - val_loss: 1.0909 - val_accuracy: 0.8006\n",
            "Epoch 20/20\n",
            "200/200 [==============================] - 31s 154ms/step - loss: 0.0513 - accuracy: 0.9806 - val_loss: 1.0249 - val_accuracy: 0.8163\n"
          ],
          "name": "stdout"
        },
        {
          "output_type": "execute_result",
          "data": {
            "text/plain": [
              "<keras.callbacks.History at 0x7fddc4732ad0>"
            ]
          },
          "metadata": {
            "tags": []
          },
          "execution_count": 26
        }
      ]
    },
    {
      "cell_type": "code",
      "metadata": {
        "colab": {
          "base_uri": "https://localhost:8080/"
        },
        "id": "OEr1iRfroAmj",
        "outputId": "f075d296-3eef-4d78-93b0-d2684f90e250"
      },
      "source": [
        "# Prediction for DOG Image using trained model\n",
        "import numpy as np\n",
        "from keras.preprocessing import image\n",
        "test_image=image.load_img('/content/drive/MyDrive/Data Science/CSVs/dataset/single_prediction/cat_or_dog_2.jpg',target_size=(64,64))\n",
        "test_image=image.img_to_array(test_image)\n",
        "test_image=np.expand_dims(test_image,axis=0)\n",
        "result=model.predict(test_image)\n",
        "if result[0][0]==1:\n",
        "     prediction='Dog'\n",
        "     \n",
        "else:\n",
        "     prediction='Cat'\n",
        "\n",
        "print(prediction)"
      ],
      "execution_count": null,
      "outputs": [
        {
          "output_type": "stream",
          "text": [
            "Cat\n"
          ],
          "name": "stdout"
        }
      ]
    }
  ]
}